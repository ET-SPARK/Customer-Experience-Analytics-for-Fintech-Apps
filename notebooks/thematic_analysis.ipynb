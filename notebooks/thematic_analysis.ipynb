{
 "cells": [
  {
   "cell_type": "code",
   "execution_count": 3,
   "id": "d0af50a6",
   "metadata": {},
   "outputs": [
    {
     "name": "stdout",
     "output_type": "stream",
     "text": [
      "Saved thematic data to ../data/thematic_reviews.csv\n"
     ]
    }
   ],
   "source": [
    "import sys\n",
    "sys.path.append('../src')\n",
    "\n",
    "import pandas as pd\n",
    "from thematic_analyzer import ThematicAnalyzer\n",
    "\n",
    "df = pd.read_csv('../data/sentiment_reviews.csv')\n",
    "\n",
    "themes = {\n",
    "    \"login\": \"Account Access\",\n",
    "    \"password\": \"Account Access\",\n",
    "    \"error\": \"Reliability\",\n",
    "    \"crash\": \"Reliability\",\n",
    "    \"slow\": \"Performance\",\n",
    "    \"transfer\": \"Performance\",\n",
    "    \"support\": \"Customer Service\",\n",
    "    \"interface\": \"UI/UX\",\n",
    "    \"design\": \"UI/UX\"\n",
    "}\n",
    "\n",
    "thematic = ThematicAnalyzer()\n",
    "keywords = thematic.extract_keywords(df)\n",
    "df = thematic.assign_themes(df, themes)\n",
    "thematic.save(df, '../data/thematic_reviews.csv')\n"
   ]
  }
 ],
 "metadata": {
  "kernelspec": {
   "display_name": "venv",
   "language": "python",
   "name": "python3"
  },
  "language_info": {
   "codemirror_mode": {
    "name": "ipython",
    "version": 3
   },
   "file_extension": ".py",
   "mimetype": "text/x-python",
   "name": "python",
   "nbconvert_exporter": "python",
   "pygments_lexer": "ipython3",
   "version": "3.10.13"
  }
 },
 "nbformat": 4,
 "nbformat_minor": 5
}
