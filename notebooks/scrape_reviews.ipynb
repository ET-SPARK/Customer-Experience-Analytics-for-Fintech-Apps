{
 "cells": [
  {
   "cell_type": "code",
   "execution_count": null,
   "id": "151f3bfc",
   "metadata": {},
   "outputs": [
    {
     "name": "stdout",
     "output_type": "stream",
     "text": [
      "Scraping CBE...\n",
      "CBE: 7483 reviews scraped.\n",
      "Scraping BOA...\n",
      "BOA: 1044 reviews scraped.\n",
      "Scraping DB...\n",
      "DB: 449 reviews scraped.\n",
      "Saved raw reviews to ../data/raw_reviews.csv\n"
     ]
    }
   ],
   "source": [
    "import sys\n",
    "sys.path.append('../src')\n",
    "\n",
    "from review_scraper import GooglePlayScraper\n",
    "\n",
    "apps = {\n",
    "    \"CBE\": \"com.combanketh.mobilebanking\",\n",
    "    \"BOA\": \"com.boa.boaMobileBanking\",\n",
    "    \"DB\": \"com.dashen.dashensuperapp\"\n",
    "}\n",
    "\n",
    "scraper = GooglePlayScraper(apps)\n",
    "scraper.scrape()\n",
    "scraper.save(\"../data/raw_reviews.csv\")\n"
   ]
  }
 ],
 "metadata": {
  "kernelspec": {
   "display_name": "venv",
   "language": "python",
   "name": "python3"
  },
  "language_info": {
   "codemirror_mode": {
    "name": "ipython",
    "version": 3
   },
   "file_extension": ".py",
   "mimetype": "text/x-python",
   "name": "python",
   "nbconvert_exporter": "python",
   "pygments_lexer": "ipython3",
   "version": "3.10.13"
  }
 },
 "nbformat": 4,
 "nbformat_minor": 5
}
